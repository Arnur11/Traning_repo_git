{
 "cells": [
  {
   "cell_type": "code",
   "execution_count": 3,
   "metadata": {},
   "outputs": [
    {
     "name": "stdout",
     "output_type": "stream",
     "text": [
      "1048576\n",
      "*Объем файла равен 1048576 Mb*\n"
     ]
    }
   ],
   "source": [
    "# В мегабайте 2^20 байт\n",
    "Megabyte = 2**20\n",
    "print(Megabyte)\n",
    "print('*Объем файла равен' , Megabyte, 'Mb*')"
   ]
  },
  {
   "cell_type": "code",
   "execution_count": null,
   "metadata": {},
   "outputs": [],
   "source": [
    "user_month = input('Введите месяц: ')\n",
    "user_number = int(input('Введите число: '))\n",
    "if (user_month == 'Март' and 21 <= user_number <= 31) or (user_month == 'Апрель' and 0 < user_number <= 20):\n",
    "    print ('ПОЗДРАВЛЯЮ! Вы Снежка из мультфильма \"Тайная жизнь домашних животных\"!')\n",
    "elif (user_month == 'Апрель' and 21 <= user_number <= 31) or (user_month == 'Май' and 0 < user_number <= 21):\n",
    "    print ('ПОЗДРАВЛЯЮ! Вы жираф Мелман из мультфильма \"Мадагаскар\"!')\n",
    "elif (user_month == 'Май' and 22 <= user_number <= 31) or (user_month == 'Июнь' and 0 < user_number <= 21):\n",
    "    print ('ПОЗДРАВЛЯЮ! Вы Крэш и Эдди из мультфильма \"Ледниковый период\"!')\n",
    "elif (user_month == 'Июнь' and 22 <= user_number <= 31) or (user_month == 'Июль' and 0 < user_number <= 22):\n",
    "    print ('ПОЗДРАВЛЯЮ! Вы пёс Макс из мультфильма \"Тайная жизнь домашних животных\"!')\n",
    "elif (user_month == 'Июль' and 23 <= user_number <= 31) or (user_month == 'Август' and 0 < user_number <= 23):\n",
    "    print ('ПОЗДРАВЛЯЮ! Вы Ангус Скаттергуд из мультфильма \"Рок Дог\"!')\n",
    "elif (user_month == 'Август' and 24 <= user_number <= 31) or (user_month == 'Сентябрь' and 0 < user_number <= 23):\n",
    "    print ('ПОЗДРАВЛЯЮ! Вы Кейт из мультфильма \"Альфа и Омега\"!')\n",
    "elif (user_month == 'Сентябрь' and 24 <= user_number <= 31) or (user_month == 'Октябрь' and 0 < user_number <= 23):\n",
    "    print ('ПОЗДРАВЛЯЮ! Вы Лунтик!')\n",
    "elif (user_month == 'Октябрь' and 24 <= user_number <= 31) or (user_month == 'Ноябрь' and 0 < user_number <= 22):\n",
    "    print ('ПОЗДРАВЛЯЮ! Вы граф Дракула из мультфильма \"Монстры на каникулах\"!')\n",
    "elif (user_month == 'Ноябрь' and 23 <= user_number <= 31) or (user_month == 'Декабрь' and 0 < user_number <= 21):\n",
    "    print ('ПОЗДРАВЛЯЮ! Вы  Бак из мультфильма \"Ледниковый период 3\"!')\n",
    "elif (user_month == 'Декабрь' and 22 <= user_number <= 31) or (user_month == 'Январь' and 0 < user_number <= 20):\n",
    "    print ('ПОЗДРАВЛЯЮ! Вы Джуди из мультфильма \"Зверополис\"!')\n",
    "elif (user_month == 'Январь' and 21 <= user_number <= 31) or (user_month == 'Февраль' and 0 < user_number <= 18):\n",
    "    print ('ПОЗДРАВЛЯЮ! Вы  Патрик из мультфильма \"Спанч-боб квадратные штаны\"!')\n",
    "elif (user_month == 'Февраль' and 19 <= user_number <= 31) or (user_month == 'Март' and 0 < user_number <= 20):\n",
    "    print ('ПОЗДРАВЛЯЮ! Вы пингвин Прапор из мультфильма \"Пингвины Мадагаскара\"!')\n",
    "else:\n",
    "    print ('ОШИБКА! Проверьте правильность введенных данных')"
   ]
  },
  {
   "cell_type": "code",
   "execution_count": null,
   "metadata": {},
   "outputs": [],
   "source": [
    "user_wage = int(input('Введите заработную плату: '))\n",
    "user_mortgage = int(input('Введите процент от з/п на ипотеку: '))\n",
    "user_for_life = int(input('Введите процент от з/п на раходы: '))\n",
    "user_number_premium = int(input('Введите количество премий в год: '))\n",
    "user_premium = user_wage  * user_number_premium\n",
    "\n",
    "mortgage = user_wage * user_mortgage / 100 * 12\n",
    "pension = (user_wage - (user_wage * user_for_life / 100) - (user_wage * user_mortgage / 100)) * 12 + (user_premium / 2)\n",
    "\n",
    "print('На ипотеку в год уходит', mortgage, 'рублей')\n",
    "print('На пенсию уходит', pension, 'рублей')"
   ]
  },
  {
   "cell_type": "code",
   "execution_count": null,
   "metadata": {},
   "outputs": [],
   "source": []
  }
 ],
 "metadata": {
  "kernelspec": {
   "display_name": "Python 3",
   "language": "python",
   "name": "python3"
  },
  "language_info": {
   "codemirror_mode": {
    "name": "ipython",
    "version": 3
   },
   "file_extension": ".py",
   "mimetype": "text/x-python",
   "name": "python",
   "nbconvert_exporter": "python",
   "pygments_lexer": "ipython3",
   "version": "3.8.3"
  }
 },
 "nbformat": 4,
 "nbformat_minor": 4
}
